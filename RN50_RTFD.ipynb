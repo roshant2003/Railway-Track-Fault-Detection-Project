{
  "nbformat": 4,
  "nbformat_minor": 0,
  "metadata": {
    "colab": {
      "provenance": [],
      "gpuType": "T4"
    },
    "kernelspec": {
      "name": "python3",
      "display_name": "Python 3"
    },
    "language_info": {
      "name": "python"
    },
    "accelerator": "GPU"
  },
  "cells": [
    {
      "cell_type": "code",
      "source": [
        "!git clone -b roshan_b https://github.com/roshant2003/Railway-Track-Fault-Detection-Project\n",
        "!cp -r Railway-Track-Fault-Detection-Project/Railway/ /content/Dataset\n",
        "!cp -r Railway-Track-Fault-Detection-Project/Railway_pre/ /content/Dataset_Pre\n",
        "!pip install tensorflow==2.15"
      ],
      "metadata": {
        "colab": {
          "base_uri": "https://localhost:8080/"
        },
        "id": "1FKwRJ-G0UUJ",
        "outputId": "906fad85-3539-4c9b-8007-26636d1f5f2a"
      },
      "execution_count": 1,
      "outputs": [
        {
          "output_type": "stream",
          "name": "stdout",
          "text": [
            "Cloning into 'Railway-Track-Fault-Detection-Project'...\n",
            "remote: Enumerating objects: 10334, done.\u001b[K\n",
            "remote: Counting objects: 100% (12/12), done.\u001b[K\n",
            "remote: Compressing objects: 100% (8/8), done.\u001b[K\n",
            "remote: Total 10334 (delta 1), reused 11 (delta 1), pack-reused 10322 (from 1)\u001b[K\n",
            "Receiving objects: 100% (10334/10334), 599.19 MiB | 7.79 MiB/s, done.\n",
            "Resolving deltas: 100% (1/1), done.\n",
            "Updating files: 100% (10309/10309), done.\n",
            "Collecting tensorflow==2.15\n",
            "  Downloading tensorflow-2.15.0-cp310-cp310-manylinux_2_17_x86_64.manylinux2014_x86_64.whl.metadata (4.4 kB)\n",
            "Requirement already satisfied: absl-py>=1.0.0 in /usr/local/lib/python3.10/dist-packages (from tensorflow==2.15) (1.4.0)\n",
            "Requirement already satisfied: astunparse>=1.6.0 in /usr/local/lib/python3.10/dist-packages (from tensorflow==2.15) (1.6.3)\n",
            "Requirement already satisfied: flatbuffers>=23.5.26 in /usr/local/lib/python3.10/dist-packages (from tensorflow==2.15) (24.3.25)\n",
            "Requirement already satisfied: gast!=0.5.0,!=0.5.1,!=0.5.2,>=0.2.1 in /usr/local/lib/python3.10/dist-packages (from tensorflow==2.15) (0.6.0)\n",
            "Requirement already satisfied: google-pasta>=0.1.1 in /usr/local/lib/python3.10/dist-packages (from tensorflow==2.15) (0.2.0)\n",
            "Requirement already satisfied: h5py>=2.9.0 in /usr/local/lib/python3.10/dist-packages (from tensorflow==2.15) (3.11.0)\n",
            "Requirement already satisfied: libclang>=13.0.0 in /usr/local/lib/python3.10/dist-packages (from tensorflow==2.15) (18.1.1)\n",
            "Collecting ml-dtypes~=0.2.0 (from tensorflow==2.15)\n",
            "  Downloading ml_dtypes-0.2.0-cp310-cp310-manylinux_2_17_x86_64.manylinux2014_x86_64.whl.metadata (20 kB)\n",
            "Requirement already satisfied: numpy<2.0.0,>=1.23.5 in /usr/local/lib/python3.10/dist-packages (from tensorflow==2.15) (1.26.4)\n",
            "Requirement already satisfied: opt-einsum>=2.3.2 in /usr/local/lib/python3.10/dist-packages (from tensorflow==2.15) (3.4.0)\n",
            "Requirement already satisfied: packaging in /usr/local/lib/python3.10/dist-packages (from tensorflow==2.15) (24.1)\n",
            "Requirement already satisfied: protobuf!=4.21.0,!=4.21.1,!=4.21.2,!=4.21.3,!=4.21.4,!=4.21.5,<5.0.0dev,>=3.20.3 in /usr/local/lib/python3.10/dist-packages (from tensorflow==2.15) (3.20.3)\n",
            "Requirement already satisfied: setuptools in /usr/local/lib/python3.10/dist-packages (from tensorflow==2.15) (71.0.4)\n",
            "Requirement already satisfied: six>=1.12.0 in /usr/local/lib/python3.10/dist-packages (from tensorflow==2.15) (1.16.0)\n",
            "Requirement already satisfied: termcolor>=1.1.0 in /usr/local/lib/python3.10/dist-packages (from tensorflow==2.15) (2.5.0)\n",
            "Requirement already satisfied: typing-extensions>=3.6.6 in /usr/local/lib/python3.10/dist-packages (from tensorflow==2.15) (4.12.2)\n",
            "Collecting wrapt<1.15,>=1.11.0 (from tensorflow==2.15)\n",
            "  Downloading wrapt-1.14.1-cp310-cp310-manylinux_2_5_x86_64.manylinux1_x86_64.manylinux_2_17_x86_64.manylinux2014_x86_64.whl.metadata (6.7 kB)\n",
            "Requirement already satisfied: tensorflow-io-gcs-filesystem>=0.23.1 in /usr/local/lib/python3.10/dist-packages (from tensorflow==2.15) (0.37.1)\n",
            "Requirement already satisfied: grpcio<2.0,>=1.24.3 in /usr/local/lib/python3.10/dist-packages (from tensorflow==2.15) (1.64.1)\n",
            "Collecting tensorboard<2.16,>=2.15 (from tensorflow==2.15)\n",
            "  Downloading tensorboard-2.15.2-py3-none-any.whl.metadata (1.7 kB)\n",
            "Collecting tensorflow-estimator<2.16,>=2.15.0 (from tensorflow==2.15)\n",
            "  Downloading tensorflow_estimator-2.15.0-py2.py3-none-any.whl.metadata (1.3 kB)\n",
            "Collecting keras<2.16,>=2.15.0 (from tensorflow==2.15)\n",
            "  Downloading keras-2.15.0-py3-none-any.whl.metadata (2.4 kB)\n",
            "Requirement already satisfied: wheel<1.0,>=0.23.0 in /usr/local/lib/python3.10/dist-packages (from astunparse>=1.6.0->tensorflow==2.15) (0.44.0)\n",
            "Requirement already satisfied: google-auth<3,>=1.6.3 in /usr/local/lib/python3.10/dist-packages (from tensorboard<2.16,>=2.15->tensorflow==2.15) (2.27.0)\n",
            "Requirement already satisfied: google-auth-oauthlib<2,>=0.5 in /usr/local/lib/python3.10/dist-packages (from tensorboard<2.16,>=2.15->tensorflow==2.15) (1.2.1)\n",
            "Requirement already satisfied: markdown>=2.6.8 in /usr/local/lib/python3.10/dist-packages (from tensorboard<2.16,>=2.15->tensorflow==2.15) (3.7)\n",
            "Requirement already satisfied: requests<3,>=2.21.0 in /usr/local/lib/python3.10/dist-packages (from tensorboard<2.16,>=2.15->tensorflow==2.15) (2.32.3)\n",
            "Requirement already satisfied: tensorboard-data-server<0.8.0,>=0.7.0 in /usr/local/lib/python3.10/dist-packages (from tensorboard<2.16,>=2.15->tensorflow==2.15) (0.7.2)\n",
            "Requirement already satisfied: werkzeug>=1.0.1 in /usr/local/lib/python3.10/dist-packages (from tensorboard<2.16,>=2.15->tensorflow==2.15) (3.0.4)\n",
            "Requirement already satisfied: cachetools<6.0,>=2.0.0 in /usr/local/lib/python3.10/dist-packages (from google-auth<3,>=1.6.3->tensorboard<2.16,>=2.15->tensorflow==2.15) (5.5.0)\n",
            "Requirement already satisfied: pyasn1-modules>=0.2.1 in /usr/local/lib/python3.10/dist-packages (from google-auth<3,>=1.6.3->tensorboard<2.16,>=2.15->tensorflow==2.15) (0.4.1)\n",
            "Requirement already satisfied: rsa<5,>=3.1.4 in /usr/local/lib/python3.10/dist-packages (from google-auth<3,>=1.6.3->tensorboard<2.16,>=2.15->tensorflow==2.15) (4.9)\n",
            "Requirement already satisfied: requests-oauthlib>=0.7.0 in /usr/local/lib/python3.10/dist-packages (from google-auth-oauthlib<2,>=0.5->tensorboard<2.16,>=2.15->tensorflow==2.15) (1.3.1)\n",
            "Requirement already satisfied: charset-normalizer<4,>=2 in /usr/local/lib/python3.10/dist-packages (from requests<3,>=2.21.0->tensorboard<2.16,>=2.15->tensorflow==2.15) (3.4.0)\n",
            "Requirement already satisfied: idna<4,>=2.5 in /usr/local/lib/python3.10/dist-packages (from requests<3,>=2.21.0->tensorboard<2.16,>=2.15->tensorflow==2.15) (3.10)\n",
            "Requirement already satisfied: urllib3<3,>=1.21.1 in /usr/local/lib/python3.10/dist-packages (from requests<3,>=2.21.0->tensorboard<2.16,>=2.15->tensorflow==2.15) (2.2.3)\n",
            "Requirement already satisfied: certifi>=2017.4.17 in /usr/local/lib/python3.10/dist-packages (from requests<3,>=2.21.0->tensorboard<2.16,>=2.15->tensorflow==2.15) (2024.8.30)\n",
            "Requirement already satisfied: MarkupSafe>=2.1.1 in /usr/local/lib/python3.10/dist-packages (from werkzeug>=1.0.1->tensorboard<2.16,>=2.15->tensorflow==2.15) (3.0.1)\n",
            "Requirement already satisfied: pyasn1<0.7.0,>=0.4.6 in /usr/local/lib/python3.10/dist-packages (from pyasn1-modules>=0.2.1->google-auth<3,>=1.6.3->tensorboard<2.16,>=2.15->tensorflow==2.15) (0.6.1)\n",
            "Requirement already satisfied: oauthlib>=3.0.0 in /usr/local/lib/python3.10/dist-packages (from requests-oauthlib>=0.7.0->google-auth-oauthlib<2,>=0.5->tensorboard<2.16,>=2.15->tensorflow==2.15) (3.2.2)\n",
            "Downloading tensorflow-2.15.0-cp310-cp310-manylinux_2_17_x86_64.manylinux2014_x86_64.whl (475.2 MB)\n",
            "\u001b[2K   \u001b[90m━━━━━━━━━━━━━━━━━━━━━━━━━━━━━━━━━━━━━━━━\u001b[0m \u001b[32m475.2/475.2 MB\u001b[0m \u001b[31m3.2 MB/s\u001b[0m eta \u001b[36m0:00:00\u001b[0m\n",
            "\u001b[?25hDownloading keras-2.15.0-py3-none-any.whl (1.7 MB)\n",
            "\u001b[2K   \u001b[90m━━━━━━━━━━━━━━━━━━━━━━━━━━━━━━━━━━━━━━━━\u001b[0m \u001b[32m1.7/1.7 MB\u001b[0m \u001b[31m76.8 MB/s\u001b[0m eta \u001b[36m0:00:00\u001b[0m\n",
            "\u001b[?25hDownloading ml_dtypes-0.2.0-cp310-cp310-manylinux_2_17_x86_64.manylinux2014_x86_64.whl (1.0 MB)\n",
            "\u001b[2K   \u001b[90m━━━━━━━━━━━━━━━━━━━━━━━━━━━━━━━━━━━━━━━━\u001b[0m \u001b[32m1.0/1.0 MB\u001b[0m \u001b[31m58.5 MB/s\u001b[0m eta \u001b[36m0:00:00\u001b[0m\n",
            "\u001b[?25hDownloading tensorboard-2.15.2-py3-none-any.whl (5.5 MB)\n",
            "\u001b[2K   \u001b[90m━━━━━━━━━━━━━━━━━━━━━━━━━━━━━━━━━━━━━━━━\u001b[0m \u001b[32m5.5/5.5 MB\u001b[0m \u001b[31m99.3 MB/s\u001b[0m eta \u001b[36m0:00:00\u001b[0m\n",
            "\u001b[?25hDownloading tensorflow_estimator-2.15.0-py2.py3-none-any.whl (441 kB)\n",
            "\u001b[2K   \u001b[90m━━━━━━━━━━━━━━━━━━━━━━━━━━━━━━━━━━━━━━━━\u001b[0m \u001b[32m442.0/442.0 kB\u001b[0m \u001b[31m32.6 MB/s\u001b[0m eta \u001b[36m0:00:00\u001b[0m\n",
            "\u001b[?25hDownloading wrapt-1.14.1-cp310-cp310-manylinux_2_5_x86_64.manylinux1_x86_64.manylinux_2_17_x86_64.manylinux2014_x86_64.whl (77 kB)\n",
            "\u001b[2K   \u001b[90m━━━━━━━━━━━━━━━━━━━━━━━━━━━━━━━━━━━━━━━━\u001b[0m \u001b[32m77.9/77.9 kB\u001b[0m \u001b[31m7.0 MB/s\u001b[0m eta \u001b[36m0:00:00\u001b[0m\n",
            "\u001b[?25hInstalling collected packages: wrapt, tensorflow-estimator, ml-dtypes, keras, tensorboard, tensorflow\n",
            "  Attempting uninstall: wrapt\n",
            "    Found existing installation: wrapt 1.16.0\n",
            "    Uninstalling wrapt-1.16.0:\n",
            "      Successfully uninstalled wrapt-1.16.0\n",
            "  Attempting uninstall: ml-dtypes\n",
            "    Found existing installation: ml-dtypes 0.4.1\n",
            "    Uninstalling ml-dtypes-0.4.1:\n",
            "      Successfully uninstalled ml-dtypes-0.4.1\n",
            "  Attempting uninstall: keras\n",
            "    Found existing installation: keras 3.4.1\n",
            "    Uninstalling keras-3.4.1:\n",
            "      Successfully uninstalled keras-3.4.1\n",
            "  Attempting uninstall: tensorboard\n",
            "    Found existing installation: tensorboard 2.17.0\n",
            "    Uninstalling tensorboard-2.17.0:\n",
            "      Successfully uninstalled tensorboard-2.17.0\n",
            "  Attempting uninstall: tensorflow\n",
            "    Found existing installation: tensorflow 2.17.0\n",
            "    Uninstalling tensorflow-2.17.0:\n",
            "      Successfully uninstalled tensorflow-2.17.0\n",
            "\u001b[31mERROR: pip's dependency resolver does not currently take into account all the packages that are installed. This behaviour is the source of the following dependency conflicts.\n",
            "tensorstore 0.1.66 requires ml-dtypes>=0.3.1, but you have ml-dtypes 0.2.0 which is incompatible.\n",
            "tf-keras 2.17.0 requires tensorflow<2.18,>=2.17, but you have tensorflow 2.15.0 which is incompatible.\u001b[0m\u001b[31m\n",
            "\u001b[0mSuccessfully installed keras-2.15.0 ml-dtypes-0.2.0 tensorboard-2.15.2 tensorflow-2.15.0 tensorflow-estimator-2.15.0 wrapt-1.14.1\n"
          ]
        }
      ]
    },
    {
      "cell_type": "code",
      "execution_count": 1,
      "metadata": {
        "id": "kZCKzOXU0DZj"
      },
      "outputs": [],
      "source": [
        "from tensorflow.keras import layers\n",
        "from tensorflow.keras.preprocessing.image import ImageDataGenerator\n",
        "from tensorflow.keras.applications.resnet50 import ResNet50\n",
        "from tensorflow.keras.models import Sequential\n",
        "from tensorflow.keras.layers import Dense"
      ]
    },
    {
      "cell_type": "code",
      "source": [
        "data_dir = 'Dataset_Pre'\n",
        "\n",
        "n_classes = 7\n",
        "\n",
        "# Image parameters\n",
        "n_channels = 3\n",
        "image_size = 224\n",
        "\n",
        "# Model parameters\n",
        "pooling_avg = 'avg'\n",
        "dense_layer_activation = 'softmax'\n",
        "objective_function = 'categorical_crossentropy'\n",
        "\n",
        "# Training parameters\n",
        "loss_metrics = ['accuracy']\n",
        "n_epochs = 100\n",
        "early_stop_patience = 10\n",
        "\n",
        "steps_per_epoch_training = 10\n",
        "steps_per_epoch_validation = 10\n",
        "\n",
        "batch_size_training = 100\n",
        "batch_size_validation = 100\n",
        "\n",
        "batch_size_testing = 1"
      ],
      "metadata": {
        "id": "InWD4Gf53d5y"
      },
      "execution_count": 7,
      "outputs": []
    },
    {
      "cell_type": "code",
      "source": [
        "# define generators\n",
        "datagen = ImageDataGenerator(\n",
        "        zoom_range=0.15,\n",
        "        shear_range=0.15,\n",
        "        horizontal_flip=True,\n",
        "        validation_split=0.2,\n",
        "        rescale=1.0/255)\n",
        "\n",
        "train_generator = datagen.flow_from_directory(\n",
        "        data_dir,\n",
        "        target_size=(image_size, image_size),\n",
        "        batch_size=batch_size_training,\n",
        "        class_mode='categorical',\n",
        "        subset='training')\n",
        "\n",
        "validation_generator = datagen.flow_from_directory(\n",
        "        data_dir,\n",
        "        target_size=(image_size, image_size),\n",
        "        batch_size=batch_size_validation,\n",
        "        class_mode='categorical',\n",
        "        subset='validation')"
      ],
      "metadata": {
        "colab": {
          "base_uri": "https://localhost:8080/"
        },
        "id": "z2j4agCz3omp",
        "outputId": "7a80eb74-ebdf-424c-c04a-e236b6e4312d"
      },
      "execution_count": 8,
      "outputs": [
        {
          "output_type": "stream",
          "name": "stdout",
          "text": [
            "Found 4125 images belonging to 7 classes.\n",
            "Found 1028 images belonging to 7 classes.\n"
          ]
        }
      ]
    },
    {
      "cell_type": "code",
      "source": [
        "# Define ResNet Model\n",
        "model = Sequential()\n",
        "model.add(ResNet50(input_shape=(224, 224, 3), include_top = False, pooling = pooling_avg, weights = 'imagenet'))\n",
        "model.add(Dense(n_classes, activation = dense_layer_activation))\n",
        "\n",
        "# Freeze base layers\n",
        "model.layers[0].trainable = False\n",
        "\n",
        "model.summary()"
      ],
      "metadata": {
        "colab": {
          "base_uri": "https://localhost:8080/"
        },
        "id": "FuIw73eF30mv",
        "outputId": "00f62099-5bae-451f-8f3c-7983b5aa9153"
      },
      "execution_count": 9,
      "outputs": [
        {
          "output_type": "stream",
          "name": "stdout",
          "text": [
            "Model: \"sequential_1\"\n",
            "_________________________________________________________________\n",
            " Layer (type)                Output Shape              Param #   \n",
            "=================================================================\n",
            " resnet50 (Functional)       (None, 2048)              23587712  \n",
            "                                                                 \n",
            " dense_1 (Dense)             (None, 7)                 14343     \n",
            "                                                                 \n",
            "=================================================================\n",
            "Total params: 23602055 (90.03 MB)\n",
            "Trainable params: 14343 (56.03 KB)\n",
            "Non-trainable params: 23587712 (89.98 MB)\n",
            "_________________________________________________________________\n"
          ]
        }
      ]
    },
    {
      "cell_type": "code",
      "source": [
        "from tensorflow.keras import optimizers\n",
        "\n",
        "# Compile model\n",
        "sgd = optimizers.SGD(learning_rate = 0.01, weight_decay = 1e-6, momentum = 0.9, nesterov = True)\n",
        "model.compile(optimizer = sgd, loss = objective_function, metrics = loss_metrics)\n",
        "\n",
        "from tensorflow.python.keras.callbacks import EarlyStopping, ModelCheckpoint\n",
        "\n",
        "# Prepare early stopping to avoid overfitting\n",
        "cb_early_stopper = EarlyStopping(monitor = 'val_loss', patience = early_stop_patience)\n",
        "cb_checkpointer = ModelCheckpoint(filepath = '../working/best', monitor = 'val_loss', save_best_only = True, mode = 'auto')"
      ],
      "metadata": {
        "id": "y5nA5Hf8BewF"
      },
      "execution_count": 10,
      "outputs": []
    },
    {
      "cell_type": "code",
      "source": [
        "fit_history = model.fit(\n",
        "        train_generator,\n",
        "        steps_per_epoch=steps_per_epoch_training,\n",
        "        epochs = n_epochs,\n",
        "        validation_data=validation_generator,\n",
        "        validation_steps=steps_per_epoch_validation,\n",
        "        callbacks=[cb_checkpointer, cb_early_stopper]\n",
        ")\n",
        "\n",
        "model.load_weights(\"../working/best\")\n",
        "\n",
        "model.save(\"RN50_RTFD.keras\")"
      ],
      "metadata": {
        "colab": {
          "base_uri": "https://localhost:8080/"
        },
        "id": "pfKuWuk038gr",
        "outputId": "50cc995c-b7aa-46e0-c9bd-32b9384b5d3b"
      },
      "execution_count": 11,
      "outputs": [
        {
          "output_type": "stream",
          "name": "stdout",
          "text": [
            "Epoch 1/100\n",
            "10/10 [==============================] - 60s 6s/step - loss: 2.0210 - accuracy: 0.4920 - val_loss: 3.5586 - val_accuracy: 0.5480\n",
            "Epoch 2/100\n",
            "10/10 [==============================] - 51s 5s/step - loss: 1.7469 - accuracy: 0.5810 - val_loss: 3.4907 - val_accuracy: 0.5490\n",
            "Epoch 3/100\n",
            "10/10 [==============================] - 53s 6s/step - loss: 2.2719 - accuracy: 0.5670 - val_loss: 1.3130 - val_accuracy: 0.6130\n",
            "Epoch 4/100\n",
            "10/10 [==============================] - 54s 6s/step - loss: 0.8896 - accuracy: 0.7351 - val_loss: 0.7853 - val_accuracy: 0.7340\n",
            "Epoch 5/100\n",
            "10/10 [==============================] - 34s 4s/step - loss: 0.7921 - accuracy: 0.7514 - val_loss: 0.8636 - val_accuracy: 0.7190\n",
            "Epoch 6/100\n",
            "10/10 [==============================] - 52s 6s/step - loss: 0.6807 - accuracy: 0.7610 - val_loss: 0.6810 - val_accuracy: 0.7280\n",
            "Epoch 7/100\n",
            "10/10 [==============================] - 31s 3s/step - loss: 0.6472 - accuracy: 0.7578 - val_loss: 0.7394 - val_accuracy: 0.7370\n",
            "Epoch 8/100\n",
            "10/10 [==============================] - 54s 6s/step - loss: 1.1287 - accuracy: 0.6410 - val_loss: 0.6359 - val_accuracy: 0.7740\n",
            "Epoch 9/100\n",
            "10/10 [==============================] - 33s 3s/step - loss: 0.7468 - accuracy: 0.7170 - val_loss: 1.1631 - val_accuracy: 0.6250\n",
            "Epoch 10/100\n",
            "10/10 [==============================] - 35s 4s/step - loss: 1.3615 - accuracy: 0.5570 - val_loss: 0.6375 - val_accuracy: 0.7720\n",
            "Epoch 11/100\n",
            "10/10 [==============================] - 32s 3s/step - loss: 0.6272 - accuracy: 0.7800 - val_loss: 0.6481 - val_accuracy: 0.7670\n",
            "Epoch 12/100\n",
            "10/10 [==============================] - 35s 4s/step - loss: 0.6168 - accuracy: 0.7860 - val_loss: 1.0056 - val_accuracy: 0.6440\n",
            "Epoch 13/100\n",
            "10/10 [==============================] - 49s 5s/step - loss: 0.5348 - accuracy: 0.8216 - val_loss: 0.6100 - val_accuracy: 0.7490\n",
            "Epoch 14/100\n",
            "10/10 [==============================] - 33s 3s/step - loss: 0.5635 - accuracy: 0.7920 - val_loss: 1.1551 - val_accuracy: 0.6180\n",
            "Epoch 15/100\n",
            "10/10 [==============================] - 35s 4s/step - loss: 0.6053 - accuracy: 0.7530 - val_loss: 1.1509 - val_accuracy: 0.6020\n",
            "Epoch 16/100\n",
            "10/10 [==============================] - 34s 4s/step - loss: 0.4884 - accuracy: 0.8389 - val_loss: 0.8139 - val_accuracy: 0.6740\n",
            "Epoch 17/100\n",
            "10/10 [==============================] - 32s 3s/step - loss: 0.5952 - accuracy: 0.7751 - val_loss: 0.8394 - val_accuracy: 0.7110\n",
            "Epoch 18/100\n",
            "10/10 [==============================] - 54s 6s/step - loss: 0.7318 - accuracy: 0.7510 - val_loss: 0.5179 - val_accuracy: 0.8140\n",
            "Epoch 19/100\n",
            "10/10 [==============================] - 35s 4s/step - loss: 0.7059 - accuracy: 0.7430 - val_loss: 0.7351 - val_accuracy: 0.7180\n",
            "Epoch 20/100\n",
            "10/10 [==============================] - 34s 4s/step - loss: 0.4351 - accuracy: 0.8692 - val_loss: 0.5982 - val_accuracy: 0.7630\n",
            "Epoch 21/100\n",
            "10/10 [==============================] - 33s 3s/step - loss: 0.5118 - accuracy: 0.8150 - val_loss: 0.9367 - val_accuracy: 0.6540\n",
            "Epoch 22/100\n",
            "10/10 [==============================] - 35s 4s/step - loss: 0.5213 - accuracy: 0.8060 - val_loss: 0.7384 - val_accuracy: 0.7150\n",
            "Epoch 23/100\n",
            "10/10 [==============================] - 35s 4s/step - loss: 0.4613 - accuracy: 0.8470 - val_loss: 0.6396 - val_accuracy: 0.7540\n",
            "Epoch 24/100\n",
            "10/10 [==============================] - 36s 4s/step - loss: 0.4474 - accuracy: 0.8450 - val_loss: 0.5325 - val_accuracy: 0.7930\n",
            "Epoch 25/100\n",
            "10/10 [==============================] - 52s 6s/step - loss: 0.5805 - accuracy: 0.7930 - val_loss: 0.5149 - val_accuracy: 0.8190\n",
            "Epoch 26/100\n",
            "10/10 [==============================] - 30s 3s/step - loss: 0.7399 - accuracy: 0.7330 - val_loss: 0.8962 - val_accuracy: 0.6640\n",
            "Epoch 27/100\n",
            "10/10 [==============================] - 49s 5s/step - loss: 0.6318 - accuracy: 0.7790 - val_loss: 0.4512 - val_accuracy: 0.8420\n",
            "Epoch 28/100\n",
            "10/10 [==============================] - 35s 4s/step - loss: 0.4559 - accuracy: 0.8420 - val_loss: 0.7750 - val_accuracy: 0.7060\n",
            "Epoch 29/100\n",
            "10/10 [==============================] - 34s 4s/step - loss: 0.4064 - accuracy: 0.8519 - val_loss: 0.5331 - val_accuracy: 0.8080\n",
            "Epoch 30/100\n",
            "10/10 [==============================] - 35s 4s/step - loss: 0.4316 - accuracy: 0.8430 - val_loss: 0.7861 - val_accuracy: 0.7020\n",
            "Epoch 31/100\n",
            "10/10 [==============================] - 33s 4s/step - loss: 0.4037 - accuracy: 0.8620 - val_loss: 0.4835 - val_accuracy: 0.8190\n",
            "Epoch 32/100\n",
            "10/10 [==============================] - 32s 3s/step - loss: 0.3753 - accuracy: 0.8810 - val_loss: 0.6553 - val_accuracy: 0.7360\n",
            "Epoch 33/100\n",
            "10/10 [==============================] - 30s 3s/step - loss: 0.4264 - accuracy: 0.8497 - val_loss: 0.6109 - val_accuracy: 0.7560\n",
            "Epoch 34/100\n",
            "10/10 [==============================] - 33s 3s/step - loss: 0.4086 - accuracy: 0.8550 - val_loss: 0.6119 - val_accuracy: 0.7500\n",
            "Epoch 35/100\n",
            "10/10 [==============================] - 32s 3s/step - loss: 0.3907 - accuracy: 0.8640 - val_loss: 0.4928 - val_accuracy: 0.8160\n",
            "Epoch 36/100\n",
            "10/10 [==============================] - 53s 6s/step - loss: 0.4523 - accuracy: 0.8380 - val_loss: 0.4040 - val_accuracy: 0.8590\n",
            "Epoch 37/100\n",
            "10/10 [==============================] - 32s 3s/step - loss: 0.4693 - accuracy: 0.8240 - val_loss: 0.6560 - val_accuracy: 0.7530\n",
            "Epoch 38/100\n",
            "10/10 [==============================] - 31s 3s/step - loss: 0.3514 - accuracy: 0.8730 - val_loss: 0.4431 - val_accuracy: 0.8340\n",
            "Epoch 39/100\n",
            "10/10 [==============================] - 32s 3s/step - loss: 0.3880 - accuracy: 0.8681 - val_loss: 0.6274 - val_accuracy: 0.7460\n",
            "Epoch 40/100\n",
            "10/10 [==============================] - 32s 3s/step - loss: 0.3505 - accuracy: 0.8800 - val_loss: 0.6588 - val_accuracy: 0.7470\n",
            "Epoch 41/100\n",
            "10/10 [==============================] - 34s 4s/step - loss: 0.3411 - accuracy: 0.8865 - val_loss: 0.6183 - val_accuracy: 0.7580\n",
            "Epoch 42/100\n",
            "10/10 [==============================] - 34s 4s/step - loss: 0.3476 - accuracy: 0.8811 - val_loss: 0.6597 - val_accuracy: 0.7390\n",
            "Epoch 43/100\n",
            "10/10 [==============================] - 30s 3s/step - loss: 0.3734 - accuracy: 0.8720 - val_loss: 0.8395 - val_accuracy: 0.6900\n",
            "Epoch 44/100\n",
            "10/10 [==============================] - 31s 3s/step - loss: 0.3277 - accuracy: 0.8830 - val_loss: 0.6171 - val_accuracy: 0.7450\n",
            "Epoch 45/100\n",
            "10/10 [==============================] - 33s 4s/step - loss: 0.3850 - accuracy: 0.8562 - val_loss: 0.5733 - val_accuracy: 0.7720\n",
            "Epoch 46/100\n",
            "10/10 [==============================] - 31s 3s/step - loss: 0.3425 - accuracy: 0.8960 - val_loss: 0.5409 - val_accuracy: 0.7760\n"
          ]
        }
      ]
    },
    {
      "cell_type": "code",
      "source": [
        "# Load TF Keras model\n",
        "import tensorflow as tf\n",
        "model = tf.keras.models.load_model(\"RN50_RTFD.keras\")"
      ],
      "metadata": {
        "id": "zJKefobKBtNk"
      },
      "execution_count": 12,
      "outputs": []
    },
    {
      "cell_type": "code",
      "source": [
        "# Accuracy test with complete dataset\n",
        "import os\n",
        "import cv2\n",
        "import progressbar\n",
        "import numpy as np\n",
        "\n",
        "def classify(image):\n",
        "    # Pre-processing\n",
        "    image = cv2.resize(image,(224,224))\n",
        "    image = np.array(np.expand_dims(image,0), dtype=np.float32)\n",
        "    image = image / 255.\n",
        "    output = model.predict(image, verbose=0)\n",
        "    return np.argmax(output, axis=1)[0]\n",
        "\n",
        "def test_model(folder, classes, length):\n",
        "    class_idx = 0\n",
        "    curr_count = 0\n",
        "    correct_count = 0\n",
        "    with progressbar.ProgressBar(max_value=length) as bar:\n",
        "        for c in classes:\n",
        "            for f in os.listdir(os.path.join(folder, c)):\n",
        "                bar.update(curr_count)\n",
        "                image = cv2.imread(os.path.join(folder, c, f))\n",
        "                out = classify(image)\n",
        "\n",
        "                if out == class_idx: correct_count += 1\n",
        "                curr_count += 1\n",
        "            class_idx += 1\n",
        "\n",
        "    print(f\"Total images           : {curr_count}\")\n",
        "    print(f\"Correct predictions    : {correct_count}\")\n",
        "    print(f\"Incorrect predictions  : {curr_count-correct_count}\")\n",
        "    print(f\"Accuracy               : {correct_count/curr_count*100} %\")"
      ],
      "metadata": {
        "id": "GRPCfFP94TCE"
      },
      "execution_count": 15,
      "outputs": []
    },
    {
      "cell_type": "code",
      "source": [
        "# TF Keras\n",
        "classes = list(train_generator.class_indices.keys())\n",
        "test_model('Dataset_Pre', classes, 5153)"
      ],
      "metadata": {
        "id": "Txz-Wchh4WWR",
        "colab": {
          "base_uri": "https://localhost:8080/"
        },
        "outputId": "b3732e25-23cd-47ee-9eec-52ad122355d7"
      },
      "execution_count": 16,
      "outputs": [
        {
          "output_type": "stream",
          "name": "stderr",
          "text": [
            "\u001b[38;2;0;255;0m100%\u001b[39m \u001b[38;2;0;255;0m(5153 of 5153)\u001b[39m |####################| Elapsed Time: 0:07:39 Time:  0:07:39\n"
          ]
        },
        {
          "output_type": "stream",
          "name": "stdout",
          "text": [
            "Total images           : 5153\n",
            "Correct predictions    : 4415\n",
            "Incorrect predictions  : 738\n",
            "Accuracy               : 85.67824568212691 %\n"
          ]
        }
      ]
    }
  ]
}