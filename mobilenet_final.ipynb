{
  "nbformat": 4,
  "nbformat_minor": 0,
  "metadata": {
    "colab": {
      "provenance": [],
      "gpuType": "T4"
    },
    "kernelspec": {
      "name": "python3",
      "display_name": "Python 3"
    },
    "language_info": {
      "name": "python"
    },
    "accelerator": "GPU"
  },
  "cells": [
    {
      "cell_type": "code",
      "execution_count": 1,
      "metadata": {
        "colab": {
          "base_uri": "https://localhost:8080/"
        },
        "id": "ziDtFKhGm8Ko",
        "outputId": "6daf5ce5-d1c7-4738-a141-626145b78305"
      },
      "outputs": [
        {
          "output_type": "stream",
          "name": "stdout",
          "text": [
            "Cloning into 'Railway-Track-Fault-Detection-Project'...\n",
            "remote: Enumerating objects: 10334, done.\u001b[K\n",
            "remote: Counting objects: 100% (12/12), done.\u001b[K\n",
            "remote: Compressing objects: 100% (8/8), done.\u001b[K\n",
            "remote: Total 10334 (delta 1), reused 11 (delta 1), pack-reused 10322 (from 1)\u001b[K\n",
            "Receiving objects: 100% (10334/10334), 599.19 MiB | 17.55 MiB/s, done.\n",
            "Resolving deltas: 100% (1/1), done.\n",
            "Updating files: 100% (10309/10309), done.\n",
            "Collecting tensorflow==2.15\n",
            "  Downloading tensorflow-2.15.0-cp310-cp310-manylinux_2_17_x86_64.manylinux2014_x86_64.whl.metadata (4.4 kB)\n",
            "Requirement already satisfied: absl-py>=1.0.0 in /usr/local/lib/python3.10/dist-packages (from tensorflow==2.15) (1.4.0)\n",
            "Requirement already satisfied: astunparse>=1.6.0 in /usr/local/lib/python3.10/dist-packages (from tensorflow==2.15) (1.6.3)\n",
            "Requirement already satisfied: flatbuffers>=23.5.26 in /usr/local/lib/python3.10/dist-packages (from tensorflow==2.15) (24.3.25)\n",
            "Requirement already satisfied: gast!=0.5.0,!=0.5.1,!=0.5.2,>=0.2.1 in /usr/local/lib/python3.10/dist-packages (from tensorflow==2.15) (0.6.0)\n",
            "Requirement already satisfied: google-pasta>=0.1.1 in /usr/local/lib/python3.10/dist-packages (from tensorflow==2.15) (0.2.0)\n",
            "Requirement already satisfied: h5py>=2.9.0 in /usr/local/lib/python3.10/dist-packages (from tensorflow==2.15) (3.11.0)\n",
            "Requirement already satisfied: libclang>=13.0.0 in /usr/local/lib/python3.10/dist-packages (from tensorflow==2.15) (18.1.1)\n",
            "Collecting ml-dtypes~=0.2.0 (from tensorflow==2.15)\n",
            "  Downloading ml_dtypes-0.2.0-cp310-cp310-manylinux_2_17_x86_64.manylinux2014_x86_64.whl.metadata (20 kB)\n",
            "Requirement already satisfied: numpy<2.0.0,>=1.23.5 in /usr/local/lib/python3.10/dist-packages (from tensorflow==2.15) (1.26.4)\n",
            "Requirement already satisfied: opt-einsum>=2.3.2 in /usr/local/lib/python3.10/dist-packages (from tensorflow==2.15) (3.4.0)\n",
            "Requirement already satisfied: packaging in /usr/local/lib/python3.10/dist-packages (from tensorflow==2.15) (24.1)\n",
            "Requirement already satisfied: protobuf!=4.21.0,!=4.21.1,!=4.21.2,!=4.21.3,!=4.21.4,!=4.21.5,<5.0.0dev,>=3.20.3 in /usr/local/lib/python3.10/dist-packages (from tensorflow==2.15) (3.20.3)\n",
            "Requirement already satisfied: setuptools in /usr/local/lib/python3.10/dist-packages (from tensorflow==2.15) (71.0.4)\n",
            "Requirement already satisfied: six>=1.12.0 in /usr/local/lib/python3.10/dist-packages (from tensorflow==2.15) (1.16.0)\n",
            "Requirement already satisfied: termcolor>=1.1.0 in /usr/local/lib/python3.10/dist-packages (from tensorflow==2.15) (2.5.0)\n",
            "Requirement already satisfied: typing-extensions>=3.6.6 in /usr/local/lib/python3.10/dist-packages (from tensorflow==2.15) (4.12.2)\n",
            "Collecting wrapt<1.15,>=1.11.0 (from tensorflow==2.15)\n",
            "  Downloading wrapt-1.14.1-cp310-cp310-manylinux_2_5_x86_64.manylinux1_x86_64.manylinux_2_17_x86_64.manylinux2014_x86_64.whl.metadata (6.7 kB)\n",
            "Requirement already satisfied: tensorflow-io-gcs-filesystem>=0.23.1 in /usr/local/lib/python3.10/dist-packages (from tensorflow==2.15) (0.37.1)\n",
            "Requirement already satisfied: grpcio<2.0,>=1.24.3 in /usr/local/lib/python3.10/dist-packages (from tensorflow==2.15) (1.64.1)\n",
            "Collecting tensorboard<2.16,>=2.15 (from tensorflow==2.15)\n",
            "  Downloading tensorboard-2.15.2-py3-none-any.whl.metadata (1.7 kB)\n",
            "Collecting tensorflow-estimator<2.16,>=2.15.0 (from tensorflow==2.15)\n",
            "  Downloading tensorflow_estimator-2.15.0-py2.py3-none-any.whl.metadata (1.3 kB)\n",
            "Collecting keras<2.16,>=2.15.0 (from tensorflow==2.15)\n",
            "  Downloading keras-2.15.0-py3-none-any.whl.metadata (2.4 kB)\n",
            "Requirement already satisfied: wheel<1.0,>=0.23.0 in /usr/local/lib/python3.10/dist-packages (from astunparse>=1.6.0->tensorflow==2.15) (0.44.0)\n",
            "Requirement already satisfied: google-auth<3,>=1.6.3 in /usr/local/lib/python3.10/dist-packages (from tensorboard<2.16,>=2.15->tensorflow==2.15) (2.27.0)\n",
            "Requirement already satisfied: google-auth-oauthlib<2,>=0.5 in /usr/local/lib/python3.10/dist-packages (from tensorboard<2.16,>=2.15->tensorflow==2.15) (1.2.1)\n",
            "Requirement already satisfied: markdown>=2.6.8 in /usr/local/lib/python3.10/dist-packages (from tensorboard<2.16,>=2.15->tensorflow==2.15) (3.7)\n",
            "Requirement already satisfied: requests<3,>=2.21.0 in /usr/local/lib/python3.10/dist-packages (from tensorboard<2.16,>=2.15->tensorflow==2.15) (2.32.3)\n",
            "Requirement already satisfied: tensorboard-data-server<0.8.0,>=0.7.0 in /usr/local/lib/python3.10/dist-packages (from tensorboard<2.16,>=2.15->tensorflow==2.15) (0.7.2)\n",
            "Requirement already satisfied: werkzeug>=1.0.1 in /usr/local/lib/python3.10/dist-packages (from tensorboard<2.16,>=2.15->tensorflow==2.15) (3.0.4)\n",
            "Requirement already satisfied: cachetools<6.0,>=2.0.0 in /usr/local/lib/python3.10/dist-packages (from google-auth<3,>=1.6.3->tensorboard<2.16,>=2.15->tensorflow==2.15) (5.5.0)\n",
            "Requirement already satisfied: pyasn1-modules>=0.2.1 in /usr/local/lib/python3.10/dist-packages (from google-auth<3,>=1.6.3->tensorboard<2.16,>=2.15->tensorflow==2.15) (0.4.1)\n",
            "Requirement already satisfied: rsa<5,>=3.1.4 in /usr/local/lib/python3.10/dist-packages (from google-auth<3,>=1.6.3->tensorboard<2.16,>=2.15->tensorflow==2.15) (4.9)\n",
            "Requirement already satisfied: requests-oauthlib>=0.7.0 in /usr/local/lib/python3.10/dist-packages (from google-auth-oauthlib<2,>=0.5->tensorboard<2.16,>=2.15->tensorflow==2.15) (1.3.1)\n",
            "Requirement already satisfied: charset-normalizer<4,>=2 in /usr/local/lib/python3.10/dist-packages (from requests<3,>=2.21.0->tensorboard<2.16,>=2.15->tensorflow==2.15) (3.4.0)\n",
            "Requirement already satisfied: idna<4,>=2.5 in /usr/local/lib/python3.10/dist-packages (from requests<3,>=2.21.0->tensorboard<2.16,>=2.15->tensorflow==2.15) (3.10)\n",
            "Requirement already satisfied: urllib3<3,>=1.21.1 in /usr/local/lib/python3.10/dist-packages (from requests<3,>=2.21.0->tensorboard<2.16,>=2.15->tensorflow==2.15) (2.2.3)\n",
            "Requirement already satisfied: certifi>=2017.4.17 in /usr/local/lib/python3.10/dist-packages (from requests<3,>=2.21.0->tensorboard<2.16,>=2.15->tensorflow==2.15) (2024.8.30)\n",
            "Requirement already satisfied: MarkupSafe>=2.1.1 in /usr/local/lib/python3.10/dist-packages (from werkzeug>=1.0.1->tensorboard<2.16,>=2.15->tensorflow==2.15) (3.0.1)\n",
            "Requirement already satisfied: pyasn1<0.7.0,>=0.4.6 in /usr/local/lib/python3.10/dist-packages (from pyasn1-modules>=0.2.1->google-auth<3,>=1.6.3->tensorboard<2.16,>=2.15->tensorflow==2.15) (0.6.1)\n",
            "Requirement already satisfied: oauthlib>=3.0.0 in /usr/local/lib/python3.10/dist-packages (from requests-oauthlib>=0.7.0->google-auth-oauthlib<2,>=0.5->tensorboard<2.16,>=2.15->tensorflow==2.15) (3.2.2)\n",
            "Downloading tensorflow-2.15.0-cp310-cp310-manylinux_2_17_x86_64.manylinux2014_x86_64.whl (475.2 MB)\n",
            "\u001b[2K   \u001b[90m━━━━━━━━━━━━━━━━━━━━━━━━━━━━━━━━━━━━━━━━\u001b[0m \u001b[32m475.2/475.2 MB\u001b[0m \u001b[31m1.3 MB/s\u001b[0m eta \u001b[36m0:00:00\u001b[0m\n",
            "\u001b[?25hDownloading keras-2.15.0-py3-none-any.whl (1.7 MB)\n",
            "\u001b[2K   \u001b[90m━━━━━━━━━━━━━━━━━━━━━━━━━━━━━━━━━━━━━━━━\u001b[0m \u001b[32m1.7/1.7 MB\u001b[0m \u001b[31m77.6 MB/s\u001b[0m eta \u001b[36m0:00:00\u001b[0m\n",
            "\u001b[?25hDownloading ml_dtypes-0.2.0-cp310-cp310-manylinux_2_17_x86_64.manylinux2014_x86_64.whl (1.0 MB)\n",
            "\u001b[2K   \u001b[90m━━━━━━━━━━━━━━━━━━━━━━━━━━━━━━━━━━━━━━━━\u001b[0m \u001b[32m1.0/1.0 MB\u001b[0m \u001b[31m57.3 MB/s\u001b[0m eta \u001b[36m0:00:00\u001b[0m\n",
            "\u001b[?25hDownloading tensorboard-2.15.2-py3-none-any.whl (5.5 MB)\n",
            "\u001b[2K   \u001b[90m━━━━━━━━━━━━━━━━━━━━━━━━━━━━━━━━━━━━━━━━\u001b[0m \u001b[32m5.5/5.5 MB\u001b[0m \u001b[31m111.7 MB/s\u001b[0m eta \u001b[36m0:00:00\u001b[0m\n",
            "\u001b[?25hDownloading tensorflow_estimator-2.15.0-py2.py3-none-any.whl (441 kB)\n",
            "\u001b[2K   \u001b[90m━━━━━━━━━━━━━━━━━━━━━━━━━━━━━━━━━━━━━━━━\u001b[0m \u001b[32m442.0/442.0 kB\u001b[0m \u001b[31m36.7 MB/s\u001b[0m eta \u001b[36m0:00:00\u001b[0m\n",
            "\u001b[?25hDownloading wrapt-1.14.1-cp310-cp310-manylinux_2_5_x86_64.manylinux1_x86_64.manylinux_2_17_x86_64.manylinux2014_x86_64.whl (77 kB)\n",
            "\u001b[2K   \u001b[90m━━━━━━━━━━━━━━━━━━━━━━━━━━━━━━━━━━━━━━━━\u001b[0m \u001b[32m77.9/77.9 kB\u001b[0m \u001b[31m7.9 MB/s\u001b[0m eta \u001b[36m0:00:00\u001b[0m\n",
            "\u001b[?25hInstalling collected packages: wrapt, tensorflow-estimator, ml-dtypes, keras, tensorboard, tensorflow\n",
            "  Attempting uninstall: wrapt\n",
            "    Found existing installation: wrapt 1.16.0\n",
            "    Uninstalling wrapt-1.16.0:\n",
            "      Successfully uninstalled wrapt-1.16.0\n",
            "  Attempting uninstall: ml-dtypes\n",
            "    Found existing installation: ml-dtypes 0.4.1\n",
            "    Uninstalling ml-dtypes-0.4.1:\n",
            "      Successfully uninstalled ml-dtypes-0.4.1\n",
            "  Attempting uninstall: keras\n",
            "    Found existing installation: keras 3.4.1\n",
            "    Uninstalling keras-3.4.1:\n",
            "      Successfully uninstalled keras-3.4.1\n",
            "  Attempting uninstall: tensorboard\n",
            "    Found existing installation: tensorboard 2.17.0\n",
            "    Uninstalling tensorboard-2.17.0:\n",
            "      Successfully uninstalled tensorboard-2.17.0\n",
            "  Attempting uninstall: tensorflow\n",
            "    Found existing installation: tensorflow 2.17.0\n",
            "    Uninstalling tensorflow-2.17.0:\n",
            "      Successfully uninstalled tensorflow-2.17.0\n",
            "\u001b[31mERROR: pip's dependency resolver does not currently take into account all the packages that are installed. This behaviour is the source of the following dependency conflicts.\n",
            "tensorstore 0.1.66 requires ml-dtypes>=0.3.1, but you have ml-dtypes 0.2.0 which is incompatible.\n",
            "tf-keras 2.17.0 requires tensorflow<2.18,>=2.17, but you have tensorflow 2.15.0 which is incompatible.\u001b[0m\u001b[31m\n",
            "\u001b[0mSuccessfully installed keras-2.15.0 ml-dtypes-0.2.0 tensorboard-2.15.2 tensorflow-2.15.0 tensorflow-estimator-2.15.0 wrapt-1.14.1\n"
          ]
        }
      ],
      "source": [
        "!git clone -b roshan_b https://github.com/roshant2003/Railway-Track-Fault-Detection-Project\n",
        "!cp -r Railway-Track-Fault-Detection-Project/Railway/ /content/Dataset\n",
        "!cp -r Railway-Track-Fault-Detection-Project/Railway_pre/ /content/Dataset_Pre\n",
        "!pip install tensorflow==2.15"
      ]
    },
    {
      "cell_type": "code",
      "source": [
        "from tensorflow.keras import layers\n",
        "from tensorflow.keras.preprocessing.image import ImageDataGenerator\n",
        "from tensorflow.keras.applications.mobilenet import MobileNet\n",
        "from tensorflow.keras.models import Sequential\n",
        "from tensorflow.keras.layers import Dense"
      ],
      "metadata": {
        "id": "RCVIb7monBih"
      },
      "execution_count": 2,
      "outputs": []
    },
    {
      "cell_type": "code",
      "source": [
        "data_dir = 'Dataset_Pre'\n",
        "\n",
        "n_classes = 7\n",
        "\n",
        "# Image parameters\n",
        "n_channels = 3\n",
        "image_size = 224\n",
        "\n",
        "# Model parameters\n",
        "pooling_avg = 'avg'\n",
        "dense_layer_activation = 'softmax'\n",
        "objective_function = 'categorical_crossentropy'\n",
        "\n",
        "# Training parameters\n",
        "loss_metrics = ['accuracy']\n",
        "n_epochs = 100\n",
        "early_stop_patience = 10\n",
        "\n",
        "steps_per_epoch_training = 10\n",
        "steps_per_epoch_validation = 10\n",
        "\n",
        "batch_size_training = 100\n",
        "batch_size_validation = 100\n",
        "\n",
        "batch_size_testing = 1\n"
      ],
      "metadata": {
        "id": "zt3-WcvrnhzD"
      },
      "execution_count": 3,
      "outputs": []
    },
    {
      "cell_type": "code",
      "source": [
        "# define generators\n",
        "datagen = ImageDataGenerator(\n",
        "        zoom_range=0.15,\n",
        "        shear_range=0.15,\n",
        "        horizontal_flip=True,\n",
        "        validation_split=0.2,\n",
        "        rescale=1.0/255)\n",
        "\n",
        "train_generator = datagen.flow_from_directory(\n",
        "        data_dir,\n",
        "        target_size=(image_size, image_size),\n",
        "        batch_size=batch_size_training,\n",
        "        class_mode='categorical',\n",
        "        subset='training')\n",
        "\n",
        "validation_generator = datagen.flow_from_directory(\n",
        "        data_dir,\n",
        "        target_size=(image_size, image_size),\n",
        "        batch_size=batch_size_validation,\n",
        "        class_mode='categorical',\n",
        "        subset='validation')\n"
      ],
      "metadata": {
        "colab": {
          "base_uri": "https://localhost:8080/"
        },
        "id": "kxtbFfHbnjVj",
        "outputId": "9a9b9450-735e-4eba-d6f6-24f62cb638b1"
      },
      "execution_count": 4,
      "outputs": [
        {
          "output_type": "stream",
          "name": "stdout",
          "text": [
            "Found 4125 images belonging to 7 classes.\n",
            "Found 1028 images belonging to 7 classes.\n"
          ]
        }
      ]
    },
    {
      "cell_type": "code",
      "source": [
        "# Define MobileNet Model\n",
        "model = Sequential()\n",
        "model.add(MobileNet(input_shape=(224, 224, 3), include_top=False, pooling=pooling_avg, weights='imagenet'))\n",
        "model.add(Dense(n_classes, activation=dense_layer_activation))\n",
        "\n",
        "# Freeze base layers\n",
        "model.layers[0].trainable = False\n",
        "\n",
        "model.summary()\n",
        "\n",
        "from tensorflow.keras import optimizers\n",
        "\n",
        "# Compile model\n",
        "sgd = optimizers.SGD(learning_rate=0.01, weight_decay=1e-6, momentum=0.9, nesterov=True)\n",
        "model.compile(optimizer=sgd, loss=objective_function, metrics=loss_metrics)\n",
        "\n",
        "from tensorflow.python.keras.callbacks import EarlyStopping, ModelCheckpoint\n",
        "\n",
        "# Prepare early stopping to avoid overfitting\n",
        "cb_early_stopper = EarlyStopping(monitor='val_loss', patience=early_stop_patience)\n",
        "cb_checkpointer = ModelCheckpoint(filepath='../working/best_mobilenet', monitor='val_loss', save_best_only=True, mode='auto')\n",
        "\n",
        "fit_history = model.fit(\n",
        "        train_generator,\n",
        "        steps_per_epoch=steps_per_epoch_training,\n",
        "        epochs=n_epochs,\n",
        "        validation_data=validation_generator,\n",
        "        validation_steps=steps_per_epoch_validation,\n",
        "        callbacks=[cb_checkpointer, cb_early_stopper]\n",
        ")\n",
        "\n",
        "model.load_weights(\"../working/best_mobilenet\")\n",
        "\n",
        "model.save(\"MobileNet_RTFD.keras\")"
      ],
      "metadata": {
        "colab": {
          "base_uri": "https://localhost:8080/"
        },
        "id": "fSziOyYNnm-Y",
        "outputId": "1cc294d7-3942-43ef-855e-3415a21de911"
      },
      "execution_count": 5,
      "outputs": [
        {
          "output_type": "stream",
          "name": "stdout",
          "text": [
            "Downloading data from https://storage.googleapis.com/tensorflow/keras-applications/mobilenet/mobilenet_1_0_224_tf_no_top.h5\n",
            "17225924/17225924 [==============================] - 2s 0us/step\n",
            "Model: \"sequential\"\n",
            "_________________________________________________________________\n",
            " Layer (type)                Output Shape              Param #   \n",
            "=================================================================\n",
            " mobilenet_1.00_224 (Functi  (None, 1024)              3228864   \n",
            " onal)                                                           \n",
            "                                                                 \n",
            " dense (Dense)               (None, 7)                 7175      \n",
            "                                                                 \n",
            "=================================================================\n",
            "Total params: 3236039 (12.34 MB)\n",
            "Trainable params: 7175 (28.03 KB)\n",
            "Non-trainable params: 3228864 (12.32 MB)\n",
            "_________________________________________________________________\n",
            "Epoch 1/100\n",
            "10/10 [==============================] - ETA: 0s - loss: 1.6249 - accuracy: 0.5000"
          ]
        },
        {
          "output_type": "stream",
          "name": "stderr",
          "text": [
            "WARNING:absl:`mobilenet_1.00_224_input` is not a valid tf.function parameter name. Sanitizing to `mobilenet_1_00_224_input`.\n",
            "WARNING:absl:`mobilenet_1.00_224_input` is not a valid tf.function parameter name. Sanitizing to `mobilenet_1_00_224_input`.\n",
            "WARNING:absl:`mobilenet_1.00_224_input` is not a valid tf.function parameter name. Sanitizing to `mobilenet_1_00_224_input`.\n"
          ]
        },
        {
          "output_type": "stream",
          "name": "stdout",
          "text": [
            "\b\b\b\b\b\b\b\b\b\b\b\b\b\b\b\b\b\b\b\b\b\b\b\b\b\b\b\b\b\b\b\b\b\b\b\b\b\b\b\b\b\b\b\b\b\b\b\b\b\b\b\b\b\b\b\b\b\b\b\b\b\b\b\b\b\b\b\b\b\b\b\b\b\b\b\b\b\b\b\b\b\b\r10/10 [==============================] - 52s 5s/step - loss: 1.6249 - accuracy: 0.5000 - val_loss: 1.1536 - val_accuracy: 0.5780\n",
            "Epoch 2/100\n",
            "10/10 [==============================] - ETA: 0s - loss: 0.6040 - accuracy: 0.7924"
          ]
        },
        {
          "output_type": "stream",
          "name": "stderr",
          "text": [
            "WARNING:absl:`mobilenet_1.00_224_input` is not a valid tf.function parameter name. Sanitizing to `mobilenet_1_00_224_input`.\n",
            "WARNING:absl:`mobilenet_1.00_224_input` is not a valid tf.function parameter name. Sanitizing to `mobilenet_1_00_224_input`.\n"
          ]
        },
        {
          "output_type": "stream",
          "name": "stdout",
          "text": [
            "\b\b\b\b\b\b\b\b\b\b\b\b\b\b\b\b\b\b\b\b\b\b\b\b\b\b\b\b\b\b\b\b\b\b\b\b\b\b\b\b\b\b\b\b\b\b\b\b\b\b\b\b\b\b\b\b\b\b\b\b\b\b\b\b\b\b\b\b\b\b\b\b\b\b\b\b\b\b\b\b\b\b\r10/10 [==============================] - 43s 4s/step - loss: 0.6040 - accuracy: 0.7924 - val_loss: 0.6219 - val_accuracy: 0.7490\n",
            "Epoch 3/100\n",
            "10/10 [==============================] - 33s 3s/step - loss: 0.4721 - accuracy: 0.8389 - val_loss: 0.8533 - val_accuracy: 0.6810\n",
            "Epoch 4/100\n",
            "10/10 [==============================] - 29s 3s/step - loss: 0.3765 - accuracy: 0.8730 - val_loss: 0.8224 - val_accuracy: 0.6930\n",
            "Epoch 5/100\n",
            "10/10 [==============================] - 34s 4s/step - loss: 0.3658 - accuracy: 0.8790 - val_loss: 0.6716 - val_accuracy: 0.7380\n",
            "Epoch 6/100\n",
            "10/10 [==============================] - 33s 4s/step - loss: 0.2752 - accuracy: 0.9120 - val_loss: 0.9040 - val_accuracy: 0.6720\n",
            "Epoch 7/100\n",
            "10/10 [==============================] - 41s 4s/step - loss: 0.2664 - accuracy: 0.9081 - val_loss: 0.6009 - val_accuracy: 0.7580\n",
            "Epoch 8/100\n",
            "10/10 [==============================] - 29s 3s/step - loss: 0.2736 - accuracy: 0.9090 - val_loss: 0.8423 - val_accuracy: 0.6790\n",
            "Epoch 9/100\n",
            "10/10 [==============================] - 32s 3s/step - loss: 0.2367 - accuracy: 0.9200 - val_loss: 0.7601 - val_accuracy: 0.7050\n",
            "Epoch 10/100\n",
            "10/10 [==============================] - 33s 4s/step - loss: 0.2342 - accuracy: 0.9250 - val_loss: 0.7229 - val_accuracy: 0.7250\n",
            "Epoch 11/100\n",
            "10/10 [==============================] - 27s 3s/step - loss: 0.2579 - accuracy: 0.9232 - val_loss: 0.7841 - val_accuracy: 0.7070\n",
            "Epoch 12/100\n",
            "10/10 [==============================] - 29s 3s/step - loss: 0.2090 - accuracy: 0.9270 - val_loss: 0.6414 - val_accuracy: 0.7480\n",
            "Epoch 13/100\n",
            "10/10 [==============================] - 39s 4s/step - loss: 0.2191 - accuracy: 0.9350 - val_loss: 0.5813 - val_accuracy: 0.7750\n",
            "Epoch 14/100\n",
            "10/10 [==============================] - 42s 4s/step - loss: 0.1841 - accuracy: 0.9450 - val_loss: 0.5569 - val_accuracy: 0.7820\n",
            "Epoch 15/100\n",
            "10/10 [==============================] - 29s 3s/step - loss: 0.1804 - accuracy: 0.9410 - val_loss: 0.6762 - val_accuracy: 0.7390\n",
            "Epoch 16/100\n",
            "10/10 [==============================] - 30s 3s/step - loss: 0.2065 - accuracy: 0.9380 - val_loss: 0.5981 - val_accuracy: 0.7590\n",
            "Epoch 17/100\n",
            "10/10 [==============================] - 28s 3s/step - loss: 0.1898 - accuracy: 0.9340 - val_loss: 0.6069 - val_accuracy: 0.7730\n",
            "Epoch 18/100\n",
            "10/10 [==============================] - 33s 4s/step - loss: 0.1841 - accuracy: 0.9390 - val_loss: 0.7768 - val_accuracy: 0.7100\n",
            "Epoch 19/100\n",
            "10/10 [==============================] - 34s 4s/step - loss: 0.1689 - accuracy: 0.9450 - val_loss: 0.5928 - val_accuracy: 0.7730\n",
            "Epoch 20/100\n",
            "10/10 [==============================] - 33s 4s/step - loss: 0.1549 - accuracy: 0.9500 - val_loss: 0.6101 - val_accuracy: 0.7770\n",
            "Epoch 21/100\n",
            "10/10 [==============================] - 28s 3s/step - loss: 0.1716 - accuracy: 0.9459 - val_loss: 0.6426 - val_accuracy: 0.7630\n",
            "Epoch 22/100\n",
            "10/10 [==============================] - 41s 4s/step - loss: 0.1619 - accuracy: 0.9430 - val_loss: 0.5219 - val_accuracy: 0.8060\n",
            "Epoch 23/100\n",
            "10/10 [==============================] - 34s 4s/step - loss: 0.1632 - accuracy: 0.9440 - val_loss: 0.6174 - val_accuracy: 0.7620\n",
            "Epoch 24/100\n",
            "10/10 [==============================] - 33s 4s/step - loss: 0.1634 - accuracy: 0.9450 - val_loss: 0.7026 - val_accuracy: 0.7420\n",
            "Epoch 25/100\n",
            "10/10 [==============================] - 34s 4s/step - loss: 0.1548 - accuracy: 0.9520 - val_loss: 0.6391 - val_accuracy: 0.7610\n",
            "Epoch 26/100\n",
            "10/10 [==============================] - 34s 4s/step - loss: 0.1654 - accuracy: 0.9480 - val_loss: 0.6782 - val_accuracy: 0.7530\n",
            "Epoch 27/100\n",
            "10/10 [==============================] - 34s 4s/step - loss: 0.1324 - accuracy: 0.9600 - val_loss: 0.6490 - val_accuracy: 0.7690\n",
            "Epoch 28/100\n",
            "10/10 [==============================] - 33s 4s/step - loss: 0.1470 - accuracy: 0.9560 - val_loss: 0.8335 - val_accuracy: 0.7140\n",
            "Epoch 29/100\n",
            "10/10 [==============================] - 34s 4s/step - loss: 0.1398 - accuracy: 0.9600 - val_loss: 0.6625 - val_accuracy: 0.7590\n",
            "Epoch 30/100\n",
            "10/10 [==============================] - 29s 3s/step - loss: 0.1424 - accuracy: 0.9600 - val_loss: 0.7128 - val_accuracy: 0.7460\n",
            "Epoch 31/100\n",
            "10/10 [==============================] - 33s 4s/step - loss: 0.1212 - accuracy: 0.9680 - val_loss: 0.6052 - val_accuracy: 0.7820\n",
            "Epoch 32/100\n",
            "10/10 [==============================] - 29s 3s/step - loss: 0.1556 - accuracy: 0.9492 - val_loss: 0.6932 - val_accuracy: 0.7540\n"
          ]
        }
      ]
    },
    {
      "cell_type": "code",
      "source": [
        "# Load TF Keras model\n",
        "import tensorflow as tf\n",
        "model = tf.keras.models.load_model(\"MobileNet_RTFD.keras\")\n",
        "\n",
        "# Accuracy test with complete dataset\n",
        "import os\n",
        "import cv2\n",
        "import progressbar\n",
        "import numpy as np\n",
        "\n",
        "def classify(image):\n",
        "    # Pre-processing\n",
        "    image = cv2.resize(image,(224,224))\n",
        "    image = np.array(np.expand_dims(image,0), dtype=np.float32)\n",
        "    image = image / 255.\n",
        "    output = model.predict(image, verbose=0)\n",
        "    return np.argmax(output, axis=1)[0]\n",
        "\n",
        "def test_model(folder, classes, length):\n",
        "    class_idx = 0\n",
        "    curr_count = 0\n",
        "    correct_count = 0\n",
        "    with progressbar.ProgressBar(max_value=length) as bar:\n",
        "        for c in classes:\n",
        "            for f in os.listdir(os.path.join(folder, c)):\n",
        "                bar.update(curr_count)\n",
        "                image = cv2.imread(os.path.join(folder, c, f))\n",
        "                out = classify(image)\n",
        "\n",
        "                if out == class_idx: correct_count += 1\n",
        "                curr_count += 1\n",
        "            class_idx += 1\n",
        "\n",
        "    print(f\"Total images           : {curr_count}\")\n",
        "    print(f\"Correct predictions    : {correct_count}\")\n",
        "    print(f\"Incorrect predictions  : {curr_count-correct_count}\")\n",
        "    print(f\"Accuracy               : {correct_count/curr_count*100} %\")\n",
        "\n",
        "# TF Keras\n",
        "classes = list(train_generator.class_indices.keys())\n",
        "test_model('Dataset_Pre', classes, 5153)"
      ],
      "metadata": {
        "colab": {
          "base_uri": "https://localhost:8080/"
        },
        "id": "MSz8washnttj",
        "outputId": "e200cc44-7247-4607-fe73-2ad7b1b1904f"
      },
      "execution_count": 6,
      "outputs": [
        {
          "output_type": "stream",
          "name": "stderr",
          "text": [
            "\u001b[38;2;0;255;0m100%\u001b[39m \u001b[38;2;0;255;0m(5153 of 5153)\u001b[39m |####################| Elapsed Time: 0:06:18 Time:  0:06:18\n"
          ]
        },
        {
          "output_type": "stream",
          "name": "stdout",
          "text": [
            "Total images           : 5153\n",
            "Correct predictions    : 4611\n",
            "Incorrect predictions  : 542\n",
            "Accuracy               : 89.48185522996313 %\n"
          ]
        }
      ]
    }
  ]
}